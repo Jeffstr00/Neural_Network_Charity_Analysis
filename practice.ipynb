{
 "cells": [
  {
   "cell_type": "code",
   "execution_count": 18,
   "id": "6e7ed886",
   "metadata": {},
   "outputs": [],
   "source": [
    "# Import our dependencies\n",
    "import pandas as pd\n",
    "import matplotlib as plt\n",
    "from sklearn.datasets import make_blobs\n",
    "from sklearn.datasets import make_moons\n",
    "from sklearn.model_selection import train_test_split\n",
    "import sklearn as skl\n",
    "import tensorflow as tf"
   ]
  },
  {
   "cell_type": "code",
   "execution_count": 3,
   "id": "ee0b00be",
   "metadata": {},
   "outputs": [
    {
     "data": {
      "text/plain": [
       "<AxesSubplot:xlabel='Feature 1', ylabel='Feature 2'>"
      ]
     },
     "execution_count": 3,
     "metadata": {},
     "output_type": "execute_result"
    },
    {
     "data": {
      "image/png": "[encoded data removed]",
      "text/plain": [
       "<Figure size 432x288 with 2 Axes>"
      ]
     },
     "metadata": {
      "needs_background": "light"
     },
     "output_type": "display_data"
    }
   ],
   "source": [
    "# Generate dummy dataset\n",
    "X, y = make_blobs(n_samples=1000, centers=2, n_features=2, random_state=78)\n",
    "\n",
    "# Creating a DataFrame with the dummy data\n",
    "df = pd.DataFrame(X, columns=[\"Feature 1\", \"Feature 2\"])\n",
    "df[\"Target\"] = y\n",
    "\n",
    "# Plotting the dummy data\n",
    "df.plot.scatter(x=\"Feature 1\", y=\"Feature 2\", c=\"Target\", colormap=\"winter\")"
   ]
  },
  {
   "cell_type": "code",
   "execution_count": 5,
   "id": "097668aa",
   "metadata": {},
   "outputs": [],
   "source": [
    "# Use sklearn to split dataset\n",
    "#from sklearn.model_selection import train_test_split\n",
    "X_train, X_test, y_train, y_test = train_test_split(X, y, random_state=78)"
   ]
  },
  {
   "cell_type": "code",
   "execution_count": 6,
   "id": "7406c1c6",
   "metadata": {},
   "outputs": [],
   "source": [
    "# Create scaler instance\n",
    "X_scaler = skl.preprocessing.StandardScaler()\n",
    "\n",
    "# Fit the scaler\n",
    "X_scaler.fit(X_train)\n",
    "\n",
    "# Scale the data\n",
    "X_train_scaled = X_scaler.transform(X_train)\n",
    "X_test_scaled = X_scaler.transform(X_test)"
   ]
  },
  {
   "cell_type": "code",
   "execution_count": 8,
   "id": "19395509",
   "metadata": {},
   "outputs": [],
   "source": [
    "# Create the Keras Sequential model\n",
    "nn_model = tf.keras.models.Sequential()"
   ]
  },
  {
   "cell_type": "code",
   "execution_count": 9,
   "id": "918a1c3b",
   "metadata": {},
   "outputs": [],
   "source": [
    "# Add our first Dense layer, including the input layer\n",
    "nn_model.add(tf.keras.layers.Dense(units=1, activation=\"relu\", input_dim=2))"
   ]
  },
  {
   "cell_type": "code",
   "execution_count": 10,
   "id": "b4056315",
   "metadata": {},
   "outputs": [],
   "source": [
    "# Add the output layer that uses a probability activation function\n",
    "nn_model.add(tf.keras.layers.Dense(units=1, activation=\"sigmoid\"))"
   ]
  },
  {
   "cell_type": "code",
   "execution_count": 11,
   "id": "76585eed",
   "metadata": {},
   "outputs": [
    {
     "name": "stdout",
     "output_type": "stream",
     "text": [
      "Model: \"sequential_1\"\n",
      "_________________________________________________________________\n",
      " Layer (type)                Output Shape              Param #   \n",
      "=================================================================\n",
      " dense (Dense)               (None, 1)                 3         \n",
      "                                                                 \n",
      " dense_1 (Dense)             (None, 1)                 2         \n",
      "                                                                 \n",
      "=================================================================\n",
      "Total params: 5\n",
      "Trainable params: 5\n",
      "Non-trainable params: 0\n",
      "_________________________________________________________________\n"
     ]
    }
   ],
   "source": [
    "# Check the structure of the Sequential model\n",
    "nn_model.summary()"
   ]
  },
  {
   "cell_type": "code",
   "execution_count": 12,
   "id": "9c50eb8b",
   "metadata": {},
   "outputs": [],
   "source": [
    "# Compile the Sequential model together and customize metrics\n",
    "nn_model.compile(loss=\"binary_crossentropy\", optimizer=\"adam\", metrics=[\"accuracy\"])"
   ]
  },
  {
   "cell_type": "code",
   "execution_count": 13,
   "id": "fd785c62",
   "metadata": {},
   "outputs": [
    {
     "name": "stdout",
     "output_type": "stream",
     "text": [
      "Epoch 1/100\n",
      "24/24 [==============================] - 0s 836us/step - loss: 1.1257 - accuracy: 0.0013\n",
      "Epoch 2/100\n",
      "24/24 [==============================] - 0s 750us/step - loss: 1.0757 - accuracy: 0.0027\n",
      "Epoch 3/100\n",
      "24/24 [==============================] - 0s 607us/step - loss: 1.0308 - accuracy: 0.0067\n",
      "Epoch 4/100\n",
      "24/24 [==============================] - 0s 648us/step - loss: 0.9900 - accuracy: 0.0133\n",
      "Epoch 5/100\n",
      "24/24 [==============================] - 0s 648us/step - loss: 0.9536 - accuracy: 0.0267\n",
      "Epoch 6/100\n",
      "24/24 [==============================] - 0s 691us/step - loss: 0.9214 - accuracy: 0.0453\n",
      "Epoch 7/100\n",
      "24/24 [==============================] - 0s 703us/step - loss: 0.8930 - accuracy: 0.0667\n",
      "Epoch 8/100\n",
      "24/24 [==============================] - 0s 755us/step - loss: 0.8678 - accuracy: 0.0933\n",
      "Epoch 9/100\n",
      "24/24 [==============================] - 0s 791us/step - loss: 0.8467 - accuracy: 0.1253\n",
      "Epoch 10/100\n",
      "24/24 [==============================] - 0s 766us/step - loss: 0.8281 - accuracy: 0.1533\n",
      "Epoch 11/100\n",
      "24/24 [==============================] - 0s 644us/step - loss: 0.8121 - accuracy: 0.1827\n",
      "Epoch 12/100\n",
      "24/24 [==============================] - 0s 691us/step - loss: 0.7987 - accuracy: 0.2107\n",
      "Epoch 13/100\n",
      "24/24 [==============================] - 0s 687us/step - loss: 0.7873 - accuracy: 0.2320\n",
      "Epoch 14/100\n",
      "24/24 [==============================] - 0s 678us/step - loss: 0.7770 - accuracy: 0.2587\n",
      "Epoch 15/100\n",
      "24/24 [==============================] - 0s 675us/step - loss: 0.7682 - accuracy: 0.2760\n",
      "Epoch 16/100\n",
      "24/24 [==============================] - 0s 692us/step - loss: 0.7603 - accuracy: 0.2920\n",
      "Epoch 17/100\n",
      "24/24 [==============================] - 0s 708us/step - loss: 0.7536 - accuracy: 0.3080\n",
      "Epoch 18/100\n",
      "24/24 [==============================] - 0s 707us/step - loss: 0.7477 - accuracy: 0.3280\n",
      "Epoch 19/100\n",
      "24/24 [==============================] - 0s 656us/step - loss: 0.7423 - accuracy: 0.3387\n",
      "Epoch 20/100\n",
      "24/24 [==============================] - 0s 645us/step - loss: 0.7373 - accuracy: 0.3520\n",
      "Epoch 21/100\n",
      "24/24 [==============================] - 0s 697us/step - loss: 0.7328 - accuracy: 0.3693\n",
      "Epoch 22/100\n",
      "24/24 [==============================] - 0s 676us/step - loss: 0.7288 - accuracy: 0.3827\n",
      "Epoch 23/100\n",
      "24/24 [==============================] - 0s 665us/step - loss: 0.7251 - accuracy: 0.3920\n",
      "Epoch 24/100\n",
      "24/24 [==============================] - 0s 796us/step - loss: 0.7216 - accuracy: 0.4027\n",
      "Epoch 25/100\n",
      "24/24 [==============================] - 0s 783us/step - loss: 0.7183 - accuracy: 0.4160\n",
      "Epoch 26/100\n",
      "24/24 [==============================] - 0s 633us/step - loss: 0.7152 - accuracy: 0.4253\n",
      "Epoch 27/100\n",
      "24/24 [==============================] - 0s 632us/step - loss: 0.7121 - accuracy: 0.4347\n",
      "Epoch 28/100\n",
      "24/24 [==============================] - 0s 625us/step - loss: 0.7090 - accuracy: 0.4533\n",
      "Epoch 29/100\n",
      "24/24 [==============================] - 0s 595us/step - loss: 0.7060 - accuracy: 0.4667\n",
      "Epoch 30/100\n",
      "24/24 [==============================] - 0s 671us/step - loss: 0.7032 - accuracy: 0.4787\n",
      "Epoch 31/100\n",
      "24/24 [==============================] - 0s 671us/step - loss: 0.7004 - accuracy: 0.4973\n",
      "Epoch 32/100\n",
      "24/24 [==============================] - 0s 627us/step - loss: 0.6974 - accuracy: 0.5080\n",
      "Epoch 33/100\n",
      "24/24 [==============================] - 0s 594us/step - loss: 0.6945 - accuracy: 0.5173\n",
      "Epoch 34/100\n",
      "24/24 [==============================] - 0s 643us/step - loss: 0.6916 - accuracy: 0.5253\n",
      "Epoch 35/100\n",
      "24/24 [==============================] - 0s 631us/step - loss: 0.6887 - accuracy: 0.5360\n",
      "Epoch 36/100\n",
      "24/24 [==============================] - 0s 760us/step - loss: 0.6859 - accuracy: 0.5427\n",
      "Epoch 37/100\n",
      "24/24 [==============================] - 0s 872us/step - loss: 0.6831 - accuracy: 0.5520\n",
      "Epoch 38/100\n",
      "24/24 [==============================] - 0s 812us/step - loss: 0.6802 - accuracy: 0.5600\n",
      "Epoch 39/100\n",
      "24/24 [==============================] - 0s 723us/step - loss: 0.6771 - accuracy: 0.5667\n",
      "Epoch 40/100\n",
      "24/24 [==============================] - 0s 683us/step - loss: 0.6736 - accuracy: 0.5747\n",
      "Epoch 41/100\n",
      "24/24 [==============================] - 0s 887us/step - loss: 0.6698 - accuracy: 0.5920\n",
      "Epoch 42/100\n",
      "24/24 [==============================] - 0s 671us/step - loss: 0.6657 - accuracy: 0.6053\n",
      "Epoch 43/100\n",
      "24/24 [==============================] - 0s 691us/step - loss: 0.6613 - accuracy: 0.6200\n",
      "Epoch 44/100\n",
      "24/24 [==============================] - 0s 698us/step - loss: 0.6558 - accuracy: 0.6320\n",
      "Epoch 45/100\n",
      "24/24 [==============================] - 0s 653us/step - loss: 0.6500 - accuracy: 0.6467\n",
      "Epoch 46/100\n",
      "24/24 [==============================] - 0s 829us/step - loss: 0.6439 - accuracy: 0.6720\n",
      "Epoch 47/100\n",
      "24/24 [==============================] - 0s 710us/step - loss: 0.6374 - accuracy: 0.6853\n",
      "Epoch 48/100\n",
      "24/24 [==============================] - 0s 657us/step - loss: 0.6304 - accuracy: 0.6960\n",
      "Epoch 49/100\n",
      "24/24 [==============================] - 0s 647us/step - loss: 0.6232 - accuracy: 0.7053\n",
      "Epoch 50/100\n",
      "24/24 [==============================] - 0s 707us/step - loss: 0.6156 - accuracy: 0.7253\n",
      "Epoch 51/100\n",
      "24/24 [==============================] - 0s 718us/step - loss: 0.6079 - accuracy: 0.7347\n",
      "Epoch 52/100\n",
      "24/24 [==============================] - 0s 732us/step - loss: 0.6001 - accuracy: 0.7453\n",
      "Epoch 53/100\n",
      "24/24 [==============================] - 0s 706us/step - loss: 0.5924 - accuracy: 0.7533\n",
      "Epoch 54/100\n",
      "24/24 [==============================] - 0s 754us/step - loss: 0.5844 - accuracy: 0.7573\n",
      "Epoch 55/100\n",
      "24/24 [==============================] - 0s 693us/step - loss: 0.5764 - accuracy: 0.7640\n",
      "Epoch 56/100\n",
      "24/24 [==============================] - 0s 775us/step - loss: 0.5683 - accuracy: 0.7667\n",
      "Epoch 57/100\n",
      "24/24 [==============================] - 0s 759us/step - loss: 0.5600 - accuracy: 0.7787\n",
      "Epoch 58/100\n",
      "24/24 [==============================] - 0s 768us/step - loss: 0.5516 - accuracy: 0.7893\n",
      "Epoch 59/100\n",
      "24/24 [==============================] - 0s 704us/step - loss: 0.5429 - accuracy: 0.7933\n",
      "Epoch 60/100\n",
      "24/24 [==============================] - 0s 710us/step - loss: 0.5341 - accuracy: 0.8080\n",
      "Epoch 61/100\n",
      "24/24 [==============================] - 0s 672us/step - loss: 0.5252 - accuracy: 0.8147\n",
      "Epoch 62/100\n",
      "24/24 [==============================] - 0s 709us/step - loss: 0.5162 - accuracy: 0.8213\n",
      "Epoch 63/100\n",
      "24/24 [==============================] - 0s 762us/step - loss: 0.5071 - accuracy: 0.8293\n",
      "Epoch 64/100\n",
      "24/24 [==============================] - 0s 737us/step - loss: 0.4981 - accuracy: 0.8400\n",
      "Epoch 65/100\n",
      "24/24 [==============================] - 0s 687us/step - loss: 0.4888 - accuracy: 0.8427\n",
      "Epoch 66/100\n",
      "24/24 [==============================] - 0s 722us/step - loss: 0.4796 - accuracy: 0.8493\n",
      "Epoch 67/100\n",
      "24/24 [==============================] - 0s 685us/step - loss: 0.4709 - accuracy: 0.8560\n",
      "Epoch 68/100\n",
      "24/24 [==============================] - 0s 787us/step - loss: 0.4620 - accuracy: 0.8613\n",
      "Epoch 69/100\n",
      "24/24 [==============================] - 0s 830us/step - loss: 0.4532 - accuracy: 0.8680\n",
      "Epoch 70/100\n",
      "24/24 [==============================] - 0s 901us/step - loss: 0.4444 - accuracy: 0.8733\n",
      "Epoch 71/100\n",
      "24/24 [==============================] - 0s 691us/step - loss: 0.4356 - accuracy: 0.8800\n",
      "Epoch 72/100\n",
      "24/24 [==============================] - 0s 807us/step - loss: 0.4269 - accuracy: 0.8840\n",
      "Epoch 73/100\n",
      "24/24 [==============================] - 0s 745us/step - loss: 0.4181 - accuracy: 0.8867\n",
      "Epoch 74/100\n",
      "24/24 [==============================] - 0s 886us/step - loss: 0.4096 - accuracy: 0.8893\n",
      "Epoch 75/100\n",
      "24/24 [==============================] - 0s 942us/step - loss: 0.4014 - accuracy: 0.8933\n",
      "Epoch 76/100\n",
      "24/24 [==============================] - 0s 867us/step - loss: 0.3933 - accuracy: 0.8960\n",
      "Epoch 77/100\n",
      "24/24 [==============================] - 0s 792us/step - loss: 0.3852 - accuracy: 0.8987\n",
      "Epoch 78/100\n",
      "24/24 [==============================] - 0s 949us/step - loss: 0.3772 - accuracy: 0.9067\n",
      "Epoch 79/100\n",
      "24/24 [==============================] - 0s 820us/step - loss: 0.3693 - accuracy: 0.9120\n",
      "Epoch 80/100\n",
      "24/24 [==============================] - 0s 991us/step - loss: 0.3614 - accuracy: 0.9120\n",
      "Epoch 81/100\n"
     ]
    },
    {
     "name": "stdout",
     "output_type": "stream",
     "text": [
      "24/24 [==============================] - 0s 700us/step - loss: 0.3536 - accuracy: 0.9160\n",
      "Epoch 82/100\n",
      "24/24 [==============================] - 0s 827us/step - loss: 0.3460 - accuracy: 0.9200\n",
      "Epoch 83/100\n",
      "24/24 [==============================] - 0s 907us/step - loss: 0.3384 - accuracy: 0.9240\n",
      "Epoch 84/100\n",
      "24/24 [==============================] - 0s 813us/step - loss: 0.3311 - accuracy: 0.9253\n",
      "Epoch 85/100\n",
      "24/24 [==============================] - 0s 778us/step - loss: 0.3239 - accuracy: 0.9253\n",
      "Epoch 86/100\n",
      "24/24 [==============================] - 0s 842us/step - loss: 0.3170 - accuracy: 0.9293\n",
      "Epoch 87/100\n",
      "24/24 [==============================] - 0s 736us/step - loss: 0.3102 - accuracy: 0.9320\n",
      "Epoch 88/100\n",
      "24/24 [==============================] - 0s 718us/step - loss: 0.3035 - accuracy: 0.9320\n",
      "Epoch 89/100\n",
      "24/24 [==============================] - 0s 637us/step - loss: 0.2972 - accuracy: 0.9333\n",
      "Epoch 90/100\n",
      "24/24 [==============================] - 0s 658us/step - loss: 0.2909 - accuracy: 0.9347\n",
      "Epoch 91/100\n",
      "24/24 [==============================] - 0s 720us/step - loss: 0.2846 - accuracy: 0.9453\n",
      "Epoch 92/100\n",
      "24/24 [==============================] - 0s 703us/step - loss: 0.2782 - accuracy: 0.9507\n",
      "Epoch 93/100\n",
      "24/24 [==============================] - 0s 697us/step - loss: 0.2722 - accuracy: 0.9507\n",
      "Epoch 94/100\n",
      "24/24 [==============================] - 0s 728us/step - loss: 0.2661 - accuracy: 0.9520\n",
      "Epoch 95/100\n",
      "24/24 [==============================] - 0s 655us/step - loss: 0.2601 - accuracy: 0.9533\n",
      "Epoch 96/100\n",
      "24/24 [==============================] - 0s 687us/step - loss: 0.2541 - accuracy: 0.9547\n",
      "Epoch 97/100\n",
      "24/24 [==============================] - 0s 654us/step - loss: 0.2481 - accuracy: 0.9560\n",
      "Epoch 98/100\n",
      "24/24 [==============================] - 0s 817us/step - loss: 0.2422 - accuracy: 0.9573\n",
      "Epoch 99/100\n",
      "24/24 [==============================] - 0s 743us/step - loss: 0.2364 - accuracy: 0.9573\n",
      "Epoch 100/100\n",
      "24/24 [==============================] - 0s 745us/step - loss: 0.2305 - accuracy: 0.9600\n"
     ]
    }
   ],
   "source": [
    "# Fit the model to the training data\n",
    "fit_model = nn_model.fit(X_train_scaled, y_train, epochs=100)"
   ]
  },
  {
   "cell_type": "code",
   "execution_count": 14,
   "id": "a70b7dcd",
   "metadata": {},
   "outputs": [
    {
     "data": {
      "text/plain": [
       "<AxesSubplot:>"
      ]
     },
     "execution_count": 14,
     "metadata": {},
     "output_type": "execute_result"
    },
    {
     "data": {
      "image/png": "[encoded data removed]",
      "text/plain": [
       "<Figure size 432x288 with 1 Axes>"
      ]
     },
     "metadata": {
      "needs_background": "light"
     },
     "output_type": "display_data"
    }
   ],
   "source": [
    "# Create a DataFrame containing training history\n",
    "history_df = pd.DataFrame(fit_model.history, index=range(1,len(fit_model.history[\"loss\"])+1))\n",
    "\n",
    "# Plot the loss\n",
    "history_df.plot(y=\"loss\")"
   ]
  },
  {
   "cell_type": "code",
   "execution_count": 15,
   "id": "0cf32f3c",
   "metadata": {},
   "outputs": [
    {
     "data": {
      "text/plain": [
       "<AxesSubplot:>"
      ]
     },
     "execution_count": 15,
     "metadata": {},
     "output_type": "execute_result"
    },
    {
     "data": {
      "image/png": "[encoded data removed]",
      "text/plain": [
       "<Figure size 432x288 with 1 Axes>"
      ]
     },
     "metadata": {
      "needs_background": "light"
     },
     "output_type": "display_data"
    }
   ],
   "source": [
    "# Plot the accuracy\n",
    "history_df.plot(y=\"accuracy\")"
   ]
  },
  {
   "cell_type": "code",
   "execution_count": 16,
   "id": "3199c4e3",
   "metadata": {},
   "outputs": [
    {
     "name": "stdout",
     "output_type": "stream",
     "text": [
      "8/8 - 0s - loss: 0.2119 - accuracy: 0.9720 - 113ms/epoch - 14ms/step\n",
      "Loss: 0.21185943484306335, Accuracy: 0.972000002861023\n"
     ]
    }
   ],
   "source": [
    "# Evaluate the model using the test data\n",
    "model_loss, model_accuracy = nn_model.evaluate(X_test_scaled,y_test,verbose=2)\n",
    "print(f\"Loss: {model_loss}, Accuracy: {model_accuracy}\")"
   ]
  },
  {
   "cell_type": "code",
   "execution_count": 17,
   "id": "1a350ee0",
   "metadata": {},
   "outputs": [
    {
     "data": {
      "text/plain": [
       "array([[0],\n",
       "       [1],\n",
       "       [0],\n",
       "       [1],\n",
       "       [0],\n",
       "       [0],\n",
       "       [1],\n",
       "       [1],\n",
       "       [1],\n",
       "       [0]])"
      ]
     },
     "execution_count": 17,
     "metadata": {},
     "output_type": "execute_result"
    }
   ],
   "source": [
    "# Predict the classification of a new set of blob data\n",
    "new_X, new_Y = make_blobs(n_samples=10, centers=2, n_features=2, random_state=78)\n",
    "new_X_scaled = X_scaler.transform(new_X)\n",
    "(nn_model.predict(new_X_scaled) > 0.5).astype(\"int32\")"
   ]
  },
  {
   "cell_type": "code",
   "execution_count": 19,
   "id": "d6913e51",
   "metadata": {},
   "outputs": [
    {
     "data": {
      "text/plain": [
       "<AxesSubplot:xlabel='Feature 1', ylabel='Feature 2'>"
      ]
     },
     "execution_count": 19,
     "metadata": {},
     "output_type": "execute_result"
    },
    {
     "data": {
      "image/png": "[encoded data removed]",
      "text/plain": [
       "<Figure size 432x288 with 2 Axes>"
      ]
     },
     "metadata": {
      "needs_background": "light"
     },
     "output_type": "display_data"
    }
   ],
   "source": [
    "# fromsklearn.datasets import make_moons\n",
    "\n",
    "# Creating dummy nonlinear data\n",
    "X_moons, y_moons = make_moons(n_samples=1000, noise=0.08, random_state=78)\n",
    "\n",
    "# Transforming y_moons to a vertical vector\n",
    "y_moons = y_moons.reshape(-1,1)\n",
    "\n",
    "# Creating a DataFrame to plot the nonlinear dummy data\n",
    "df_moons = pd.DataFrame(X_moons, columns=[\"Feature 1\", \"Feature 2\"])\n",
    "df_moons[\"Target\"] = y_moons\n",
    "\n",
    "# Plot the nonlinear dummy data\n",
    "df_moons.plot.scatter(x=\"Feature 1\", y=\"Feature 2\", c=\"Target\", colormap=\"winter\")"
   ]
  },
  {
   "cell_type": "code",
   "execution_count": 20,
   "id": "7b2025d1",
   "metadata": {},
   "outputs": [],
   "source": [
    "# Create training and testing sets\n",
    "X_moon_train, X_moon_test, y_moon_train, y_moon_test = train_test_split(\n",
    "    X_moons, y_moons, random_state=78\n",
    ")\n",
    "\n",
    "# Create the scaler instance\n",
    "X_moon_scaler = skl.preprocessing.StandardScaler()\n",
    "\n",
    "# Fit the scaler\n",
    "X_moon_scaler.fit(X_moon_train)\n",
    "\n",
    "# Scale the data\n",
    "X_moon_train_scaled = X_moon_scaler.transform(X_moon_train)\n",
    "X_moon_test_scaled = X_moon_scaler.transform(X_moon_test)"
   ]
  },
  {
   "cell_type": "code",
   "execution_count": 21,
   "id": "b9d49cb3",
   "metadata": {},
   "outputs": [
    {
     "name": "stdout",
     "output_type": "stream",
     "text": [
      "Epoch 1/100\n",
      "24/24 [==============================] - 0s 1ms/step - loss: 1.5157 - accuracy: 0.2720\n",
      "Epoch 2/100\n",
      "24/24 [==============================] - 0s 1ms/step - loss: 1.3352 - accuracy: 0.2773\n",
      "Epoch 3/100\n",
      "24/24 [==============================] - 0s 984us/step - loss: 1.1980 - accuracy: 0.2920\n",
      "Epoch 4/100\n",
      "24/24 [==============================] - 0s 1ms/step - loss: 1.1019 - accuracy: 0.3173\n",
      "Epoch 5/100\n",
      "24/24 [==============================] - 0s 1ms/step - loss: 1.0309 - accuracy: 0.3320\n",
      "Epoch 6/100\n",
      "24/24 [==============================] - 0s 1ms/step - loss: 0.9770 - accuracy: 0.3440\n",
      "Epoch 7/100\n",
      "24/24 [==============================] - 0s 1ms/step - loss: 0.9331 - accuracy: 0.3693\n",
      "Epoch 8/100\n",
      "24/24 [==============================] - 0s 1ms/step - loss: 0.8970 - accuracy: 0.3920\n",
      "Epoch 9/100\n",
      "24/24 [==============================] - 0s 950us/step - loss: 0.8669 - accuracy: 0.4133\n",
      "Epoch 10/100\n",
      "24/24 [==============================] - 0s 1ms/step - loss: 0.8401 - accuracy: 0.4307\n",
      "Epoch 11/100\n",
      "24/24 [==============================] - 0s 1ms/step - loss: 0.8177 - accuracy: 0.4520\n",
      "Epoch 12/100\n",
      "24/24 [==============================] - 0s 1ms/step - loss: 0.7974 - accuracy: 0.4640\n",
      "Epoch 13/100\n",
      "24/24 [==============================] - 0s 964us/step - loss: 0.7798 - accuracy: 0.4853\n",
      "Epoch 14/100\n",
      "24/24 [==============================] - 0s 1ms/step - loss: 0.7639 - accuracy: 0.5000\n",
      "Epoch 15/100\n",
      "24/24 [==============================] - 0s 1ms/step - loss: 0.7494 - accuracy: 0.5240\n",
      "Epoch 16/100\n",
      "24/24 [==============================] - 0s 1ms/step - loss: 0.7362 - accuracy: 0.5387\n",
      "Epoch 17/100\n",
      "24/24 [==============================] - 0s 1ms/step - loss: 0.7239 - accuracy: 0.5507\n",
      "Epoch 18/100\n",
      "24/24 [==============================] - 0s 1ms/step - loss: 0.7126 - accuracy: 0.5613\n",
      "Epoch 19/100\n",
      "24/24 [==============================] - 0s 978us/step - loss: 0.7018 - accuracy: 0.5773\n",
      "Epoch 20/100\n",
      "24/24 [==============================] - 0s 1ms/step - loss: 0.6922 - accuracy: 0.5893\n",
      "Epoch 21/100\n",
      "24/24 [==============================] - 0s 986us/step - loss: 0.6832 - accuracy: 0.6040\n",
      "Epoch 22/100\n",
      "24/24 [==============================] - 0s 971us/step - loss: 0.6748 - accuracy: 0.6107\n",
      "Epoch 23/100\n",
      "24/24 [==============================] - 0s 1ms/step - loss: 0.6671 - accuracy: 0.6187\n",
      "Epoch 24/100\n",
      "24/24 [==============================] - 0s 1ms/step - loss: 0.6596 - accuracy: 0.6253\n",
      "Epoch 25/100\n",
      "24/24 [==============================] - 0s 1ms/step - loss: 0.6524 - accuracy: 0.6360\n",
      "Epoch 26/100\n",
      "24/24 [==============================] - 0s 972us/step - loss: 0.6456 - accuracy: 0.6440\n",
      "Epoch 27/100\n",
      "24/24 [==============================] - 0s 1ms/step - loss: 0.6392 - accuracy: 0.6507\n",
      "Epoch 28/100\n",
      "24/24 [==============================] - 0s 1ms/step - loss: 0.6331 - accuracy: 0.6533\n",
      "Epoch 29/100\n",
      "24/24 [==============================] - 0s 926us/step - loss: 0.6275 - accuracy: 0.6573\n",
      "Epoch 30/100\n",
      "24/24 [==============================] - 0s 1ms/step - loss: 0.6222 - accuracy: 0.6667\n",
      "Epoch 31/100\n",
      "24/24 [==============================] - 0s 943us/step - loss: 0.6172 - accuracy: 0.6733\n",
      "Epoch 32/100\n",
      "24/24 [==============================] - 0s 972us/step - loss: 0.6123 - accuracy: 0.6800\n",
      "Epoch 33/100\n",
      "24/24 [==============================] - 0s 1ms/step - loss: 0.6075 - accuracy: 0.6853\n",
      "Epoch 34/100\n",
      "24/24 [==============================] - 0s 1ms/step - loss: 0.6034 - accuracy: 0.6840\n",
      "Epoch 35/100\n",
      "24/24 [==============================] - 0s 1ms/step - loss: 0.5990 - accuracy: 0.6867\n",
      "Epoch 36/100\n",
      "24/24 [==============================] - 0s 1ms/step - loss: 0.5950 - accuracy: 0.6907\n",
      "Epoch 37/100\n",
      "24/24 [==============================] - 0s 972us/step - loss: 0.5910 - accuracy: 0.6907\n",
      "Epoch 38/100\n",
      "24/24 [==============================] - 0s 1ms/step - loss: 0.5872 - accuracy: 0.6947\n",
      "Epoch 39/100\n",
      "24/24 [==============================] - 0s 893us/step - loss: 0.5833 - accuracy: 0.7000\n",
      "Epoch 40/100\n",
      "24/24 [==============================] - 0s 1ms/step - loss: 0.5795 - accuracy: 0.7027\n",
      "Epoch 41/100\n",
      "24/24 [==============================] - 0s 1ms/step - loss: 0.5758 - accuracy: 0.7040\n",
      "Epoch 42/100\n",
      "24/24 [==============================] - 0s 961us/step - loss: 0.5722 - accuracy: 0.7013\n",
      "Epoch 43/100\n",
      "24/24 [==============================] - 0s 1ms/step - loss: 0.5689 - accuracy: 0.7000\n",
      "Epoch 44/100\n",
      "24/24 [==============================] - 0s 1ms/step - loss: 0.5656 - accuracy: 0.7080\n",
      "Epoch 45/100\n",
      "24/24 [==============================] - 0s 1ms/step - loss: 0.5625 - accuracy: 0.7107\n",
      "Epoch 46/100\n",
      "24/24 [==============================] - 0s 1ms/step - loss: 0.5595 - accuracy: 0.7107\n",
      "Epoch 47/100\n",
      "24/24 [==============================] - 0s 1ms/step - loss: 0.5567 - accuracy: 0.7133\n",
      "Epoch 48/100\n",
      "24/24 [==============================] - 0s 999us/step - loss: 0.5540 - accuracy: 0.7080\n",
      "Epoch 49/100\n",
      "24/24 [==============================] - 0s 982us/step - loss: 0.5514 - accuracy: 0.7120\n",
      "Epoch 50/100\n",
      "24/24 [==============================] - 0s 925us/step - loss: 0.5488 - accuracy: 0.7160\n",
      "Epoch 51/100\n",
      "24/24 [==============================] - 0s 1ms/step - loss: 0.5462 - accuracy: 0.7173\n",
      "Epoch 52/100\n",
      "24/24 [==============================] - 0s 964us/step - loss: 0.5436 - accuracy: 0.7187\n",
      "Epoch 53/100\n",
      "24/24 [==============================] - 0s 936us/step - loss: 0.5411 - accuracy: 0.7253\n",
      "Epoch 54/100\n",
      "24/24 [==============================] - 0s 964us/step - loss: 0.5387 - accuracy: 0.7253\n",
      "Epoch 55/100\n",
      "24/24 [==============================] - 0s 1ms/step - loss: 0.5361 - accuracy: 0.7280\n",
      "Epoch 56/100\n",
      "24/24 [==============================] - 0s 1ms/step - loss: 0.5335 - accuracy: 0.7307\n",
      "Epoch 57/100\n",
      "24/24 [==============================] - 0s 1ms/step - loss: 0.5309 - accuracy: 0.7320\n",
      "Epoch 58/100\n",
      "24/24 [==============================] - 0s 1ms/step - loss: 0.5284 - accuracy: 0.7320\n",
      "Epoch 59/100\n",
      "24/24 [==============================] - 0s 1ms/step - loss: 0.5260 - accuracy: 0.7347\n",
      "Epoch 60/100\n",
      "24/24 [==============================] - 0s 1ms/step - loss: 0.5234 - accuracy: 0.7360\n",
      "Epoch 61/100\n",
      "24/24 [==============================] - 0s 1ms/step - loss: 0.5208 - accuracy: 0.7347\n",
      "Epoch 62/100\n",
      "24/24 [==============================] - 0s 937us/step - loss: 0.5179 - accuracy: 0.7347\n",
      "Epoch 63/100\n",
      "24/24 [==============================] - 0s 1ms/step - loss: 0.5151 - accuracy: 0.7347\n",
      "Epoch 64/100\n",
      "24/24 [==============================] - 0s 946us/step - loss: 0.5122 - accuracy: 0.7347\n",
      "Epoch 65/100\n",
      "24/24 [==============================] - 0s 966us/step - loss: 0.5093 - accuracy: 0.7360\n",
      "Epoch 66/100\n",
      "24/24 [==============================] - 0s 982us/step - loss: 0.5067 - accuracy: 0.7387\n",
      "Epoch 67/100\n",
      "24/24 [==============================] - 0s 1ms/step - loss: 0.5039 - accuracy: 0.7413\n",
      "Epoch 68/100\n",
      "24/24 [==============================] - 0s 1ms/step - loss: 0.5012 - accuracy: 0.7427\n",
      "Epoch 69/100\n",
      "24/24 [==============================] - 0s 909us/step - loss: 0.4985 - accuracy: 0.7467\n",
      "Epoch 70/100\n",
      "24/24 [==============================] - 0s 1ms/step - loss: 0.4959 - accuracy: 0.7493\n",
      "Epoch 71/100\n",
      "24/24 [==============================] - 0s 1ms/step - loss: 0.4933 - accuracy: 0.7560\n",
      "Epoch 72/100\n",
      "24/24 [==============================] - 0s 1ms/step - loss: 0.4908 - accuracy: 0.7587\n",
      "Epoch 73/100\n",
      "24/24 [==============================] - 0s 1ms/step - loss: 0.4883 - accuracy: 0.7627\n",
      "Epoch 74/100\n",
      "24/24 [==============================] - 0s 968us/step - loss: 0.4856 - accuracy: 0.7667\n",
      "Epoch 75/100\n",
      "24/24 [==============================] - 0s 1ms/step - loss: 0.4829 - accuracy: 0.7707\n",
      "Epoch 76/100\n",
      "24/24 [==============================] - 0s 1ms/step - loss: 0.4800 - accuracy: 0.7707\n",
      "Epoch 77/100\n",
      "24/24 [==============================] - 0s 946us/step - loss: 0.4774 - accuracy: 0.7720\n",
      "Epoch 78/100\n",
      "24/24 [==============================] - 0s 1ms/step - loss: 0.4747 - accuracy: 0.7747\n",
      "Epoch 79/100\n",
      "24/24 [==============================] - 0s 1ms/step - loss: 0.4720 - accuracy: 0.7773\n",
      "Epoch 80/100\n",
      "24/24 [==============================] - 0s 997us/step - loss: 0.4693 - accuracy: 0.7787\n",
      "Epoch 81/100\n",
      "24/24 [==============================] - 0s 1ms/step - loss: 0.4667 - accuracy: 0.7813\n",
      "Epoch 82/100\n"
     ]
    },
    {
     "name": "stdout",
     "output_type": "stream",
     "text": [
      "24/24 [==============================] - 0s 1ms/step - loss: 0.4642 - accuracy: 0.7813\n",
      "Epoch 83/100\n",
      "24/24 [==============================] - 0s 970us/step - loss: 0.4615 - accuracy: 0.7827\n",
      "Epoch 84/100\n",
      "24/24 [==============================] - 0s 1000us/step - loss: 0.4588 - accuracy: 0.7840\n",
      "Epoch 85/100\n",
      "24/24 [==============================] - 0s 984us/step - loss: 0.4563 - accuracy: 0.7853\n",
      "Epoch 86/100\n",
      "24/24 [==============================] - 0s 1ms/step - loss: 0.4537 - accuracy: 0.7853\n",
      "Epoch 87/100\n",
      "24/24 [==============================] - 0s 1ms/step - loss: 0.4513 - accuracy: 0.7880\n",
      "Epoch 88/100\n",
      "24/24 [==============================] - 0s 977us/step - loss: 0.4489 - accuracy: 0.7893\n",
      "Epoch 89/100\n",
      "24/24 [==============================] - 0s 935us/step - loss: 0.4465 - accuracy: 0.7920\n",
      "Epoch 90/100\n",
      "24/24 [==============================] - 0s 954us/step - loss: 0.4443 - accuracy: 0.7933\n",
      "Epoch 91/100\n",
      "24/24 [==============================] - 0s 941us/step - loss: 0.4420 - accuracy: 0.7973\n",
      "Epoch 92/100\n",
      "24/24 [==============================] - 0s 1ms/step - loss: 0.4398 - accuracy: 0.7987\n",
      "Epoch 93/100\n",
      "24/24 [==============================] - 0s 1ms/step - loss: 0.4376 - accuracy: 0.8000\n",
      "Epoch 94/100\n",
      "24/24 [==============================] - 0s 1ms/step - loss: 0.4351 - accuracy: 0.8013\n",
      "Epoch 95/100\n",
      "24/24 [==============================] - 0s 1ms/step - loss: 0.4326 - accuracy: 0.8027\n",
      "Epoch 96/100\n",
      "24/24 [==============================] - 0s 1ms/step - loss: 0.4298 - accuracy: 0.8053\n",
      "Epoch 97/100\n",
      "24/24 [==============================] - 0s 1ms/step - loss: 0.4271 - accuracy: 0.8080\n",
      "Epoch 98/100\n",
      "24/24 [==============================] - 0s 1ms/step - loss: 0.4244 - accuracy: 0.8093\n",
      "Epoch 99/100\n",
      "24/24 [==============================] - 0s 879us/step - loss: 0.4217 - accuracy: 0.8093\n",
      "Epoch 100/100\n",
      "24/24 [==============================] - 0s 1ms/step - loss: 0.4192 - accuracy: 0.8093\n"
     ]
    }
   ],
   "source": [
    "# Training the model with the nonlinear data\n",
    "model_moon = nn_model.fit(X_moon_train_scaled, y_moon_train, epochs=100, shuffle=100)"
   ]
  },
  {
   "cell_type": "code",
   "execution_count": 22,
   "id": "eda84cda",
   "metadata": {},
   "outputs": [
    {
     "data": {
      "text/plain": [
       "<AxesSubplot:>"
      ]
     },
     "execution_count": 22,
     "metadata": {},
     "output_type": "execute_result"
    },
    {
     "data": {
      "image/png": "[encoded data removed]",
      "text/plain": [
       "<Figure size 432x288 with 1 Axes>"
      ]
     },
     "metadata": {
      "needs_background": "light"
     },
     "output_type": "display_data"
    }
   ],
   "source": [
    "# Create a DataFrame containing training history\n",
    "history_df = pd.DataFrame(model_moon.history, index=range(1,len(model_moon.history[\"loss\"])+1))\n",
    "\n",
    "# Plot the loss\n",
    "history_df.plot(y=\"loss\")"
   ]
  },
  {
   "cell_type": "code",
   "execution_count": 23,
   "id": "3c86b156",
   "metadata": {},
   "outputs": [
    {
     "data": {
      "text/plain": [
       "<AxesSubplot:>"
      ]
     },
     "execution_count": 23,
     "metadata": {},
     "output_type": "execute_result"
    },
    {
     "data": {
      "image/png": "[encoded data removed]",
      "text/plain": [
       "<Figure size 432x288 with 1 Axes>"
      ]
     },
     "metadata": {
      "needs_background": "light"
     },
     "output_type": "display_data"
    }
   ],
   "source": [
    "# Plot the accuracy\n",
    "history_df.plot(y=\"accuracy\")"
   ]
  },
  {
   "cell_type": "code",
   "execution_count": 24,
   "id": "5a138942",
   "metadata": {},
   "outputs": [],
   "source": [
    "# Generate our new Sequential model\n",
    "new_model = tf.keras.models.Sequential()"
   ]
  },
  {
   "cell_type": "code",
   "execution_count": 25,
   "id": "bf829c11",
   "metadata": {},
   "outputs": [],
   "source": [
    "# Add the input and hidden layer\n",
    "number_inputs = 2\n",
    "number_hidden_nodes = 6\n",
    "\n",
    "new_model.add(tf.keras.layers.Dense(units=number_hidden_nodes, activation=\"relu\", input_dim=number_inputs))\n",
    "\n",
    "# Add the output layer that uses a probability activation function\n",
    "new_model.add(tf.keras.layers.Dense(units=1, activation=\"sigmoid\"))"
   ]
  },
  {
   "cell_type": "code",
   "execution_count": 26,
   "id": "782318b8",
   "metadata": {},
   "outputs": [
    {
     "name": "stdout",
     "output_type": "stream",
     "text": [
      "Epoch 1/100\n",
      "24/24 [==============================] - 0s 884us/step - loss: 0.6854 - accuracy: 0.5267\n",
      "Epoch 2/100\n",
      "24/24 [==============================] - 0s 868us/step - loss: 0.6561 - accuracy: 0.6173\n",
      "Epoch 3/100\n",
      "24/24 [==============================] - 0s 808us/step - loss: 0.6293 - accuracy: 0.6360\n",
      "Epoch 4/100\n",
      "24/24 [==============================] - 0s 751us/step - loss: 0.6047 - accuracy: 0.6667\n",
      "Epoch 5/100\n",
      "24/24 [==============================] - 0s 920us/step - loss: 0.5822 - accuracy: 0.6880\n",
      "Epoch 6/100\n",
      "24/24 [==============================] - 0s 875us/step - loss: 0.5615 - accuracy: 0.7040\n",
      "Epoch 7/100\n",
      "24/24 [==============================] - 0s 689us/step - loss: 0.5428 - accuracy: 0.7293\n",
      "Epoch 8/100\n",
      "24/24 [==============================] - 0s 782us/step - loss: 0.5256 - accuracy: 0.7400\n",
      "Epoch 9/100\n",
      "24/24 [==============================] - 0s 1ms/step - loss: 0.5100 - accuracy: 0.7493\n",
      "Epoch 10/100\n",
      "24/24 [==============================] - 0s 827us/step - loss: 0.4953 - accuracy: 0.7827\n",
      "Epoch 11/100\n",
      "24/24 [==============================] - 0s 943us/step - loss: 0.4818 - accuracy: 0.8027\n",
      "Epoch 12/100\n",
      "24/24 [==============================] - 0s 770us/step - loss: 0.4691 - accuracy: 0.8347\n",
      "Epoch 13/100\n",
      "24/24 [==============================] - 0s 849us/step - loss: 0.4571 - accuracy: 0.8720\n",
      "Epoch 14/100\n",
      "24/24 [==============================] - 0s 969us/step - loss: 0.4452 - accuracy: 0.8747\n",
      "Epoch 15/100\n",
      "24/24 [==============================] - 0s 842us/step - loss: 0.4341 - accuracy: 0.8787\n",
      "Epoch 16/100\n",
      "24/24 [==============================] - 0s 873us/step - loss: 0.4232 - accuracy: 0.8827\n",
      "Epoch 17/100\n",
      "24/24 [==============================] - 0s 692us/step - loss: 0.4126 - accuracy: 0.8867\n",
      "Epoch 18/100\n",
      "24/24 [==============================] - 0s 902us/step - loss: 0.4021 - accuracy: 0.8893\n",
      "Epoch 19/100\n",
      "24/24 [==============================] - 0s 867us/step - loss: 0.3917 - accuracy: 0.8867\n",
      "Epoch 20/100\n",
      "24/24 [==============================] - 0s 791us/step - loss: 0.3810 - accuracy: 0.8853\n",
      "Epoch 21/100\n",
      "24/24 [==============================] - 0s 869us/step - loss: 0.3703 - accuracy: 0.8853\n",
      "Epoch 22/100\n",
      "24/24 [==============================] - 0s 997us/step - loss: 0.3596 - accuracy: 0.8867\n",
      "Epoch 23/100\n",
      "24/24 [==============================] - 0s 734us/step - loss: 0.3487 - accuracy: 0.8853\n",
      "Epoch 24/100\n",
      "24/24 [==============================] - 0s 818us/step - loss: 0.3386 - accuracy: 0.8867\n",
      "Epoch 25/100\n",
      "24/24 [==============================] - 0s 804us/step - loss: 0.3287 - accuracy: 0.8880\n",
      "Epoch 26/100\n",
      "24/24 [==============================] - 0s 788us/step - loss: 0.3197 - accuracy: 0.8880\n",
      "Epoch 27/100\n",
      "24/24 [==============================] - 0s 716us/step - loss: 0.3112 - accuracy: 0.8880\n",
      "Epoch 28/100\n",
      "24/24 [==============================] - 0s 808us/step - loss: 0.3036 - accuracy: 0.8907\n",
      "Epoch 29/100\n",
      "24/24 [==============================] - 0s 794us/step - loss: 0.2966 - accuracy: 0.8907\n",
      "Epoch 30/100\n",
      "24/24 [==============================] - 0s 829us/step - loss: 0.2902 - accuracy: 0.8907\n",
      "Epoch 31/100\n",
      "24/24 [==============================] - 0s 889us/step - loss: 0.2847 - accuracy: 0.8907\n",
      "Epoch 32/100\n",
      "24/24 [==============================] - 0s 923us/step - loss: 0.2792 - accuracy: 0.8907\n",
      "Epoch 33/100\n",
      "24/24 [==============================] - 0s 899us/step - loss: 0.2746 - accuracy: 0.8920\n",
      "Epoch 34/100\n",
      "24/24 [==============================] - 0s 919us/step - loss: 0.2701 - accuracy: 0.8933\n",
      "Epoch 35/100\n",
      "24/24 [==============================] - 0s 751us/step - loss: 0.2659 - accuracy: 0.8960\n",
      "Epoch 36/100\n",
      "24/24 [==============================] - 0s 825us/step - loss: 0.2622 - accuracy: 0.8960\n",
      "Epoch 37/100\n",
      "24/24 [==============================] - 0s 756us/step - loss: 0.2587 - accuracy: 0.8973\n",
      "Epoch 38/100\n",
      "24/24 [==============================] - 0s 854us/step - loss: 0.2556 - accuracy: 0.8973\n",
      "Epoch 39/100\n",
      "24/24 [==============================] - 0s 910us/step - loss: 0.2525 - accuracy: 0.8973\n",
      "Epoch 40/100\n",
      "24/24 [==============================] - 0s 997us/step - loss: 0.2499 - accuracy: 0.8973\n",
      "Epoch 41/100\n",
      "24/24 [==============================] - 0s 953us/step - loss: 0.2473 - accuracy: 0.8973\n",
      "Epoch 42/100\n",
      "24/24 [==============================] - 0s 953us/step - loss: 0.2451 - accuracy: 0.8960\n",
      "Epoch 43/100\n",
      "24/24 [==============================] - 0s 737us/step - loss: 0.2429 - accuracy: 0.8960\n",
      "Epoch 44/100\n",
      "24/24 [==============================] - 0s 889us/step - loss: 0.2408 - accuracy: 0.8960\n",
      "Epoch 45/100\n",
      "24/24 [==============================] - 0s 778us/step - loss: 0.2389 - accuracy: 0.8960\n",
      "Epoch 46/100\n",
      "24/24 [==============================] - 0s 761us/step - loss: 0.2370 - accuracy: 0.8987\n",
      "Epoch 47/100\n",
      "24/24 [==============================] - 0s 845us/step - loss: 0.2353 - accuracy: 0.9000\n",
      "Epoch 48/100\n",
      "24/24 [==============================] - 0s 1ms/step - loss: 0.2334 - accuracy: 0.9013\n",
      "Epoch 49/100\n",
      "24/24 [==============================] - 0s 978us/step - loss: 0.2317 - accuracy: 0.9013\n",
      "Epoch 50/100\n",
      "24/24 [==============================] - 0s 904us/step - loss: 0.2302 - accuracy: 0.9013\n",
      "Epoch 51/100\n",
      "24/24 [==============================] - 0s 1ms/step - loss: 0.2286 - accuracy: 0.9013\n",
      "Epoch 52/100\n",
      "24/24 [==============================] - 0s 1ms/step - loss: 0.2272 - accuracy: 0.9027\n",
      "Epoch 53/100\n",
      "24/24 [==============================] - 0s 940us/step - loss: 0.2258 - accuracy: 0.9027\n",
      "Epoch 54/100\n",
      "24/24 [==============================] - 0s 751us/step - loss: 0.2244 - accuracy: 0.9040\n",
      "Epoch 55/100\n",
      "24/24 [==============================] - 0s 712us/step - loss: 0.2230 - accuracy: 0.9053\n",
      "Epoch 56/100\n",
      "24/24 [==============================] - 0s 709us/step - loss: 0.2218 - accuracy: 0.9067\n",
      "Epoch 57/100\n",
      "24/24 [==============================] - 0s 711us/step - loss: 0.2204 - accuracy: 0.9067\n",
      "Epoch 58/100\n",
      "24/24 [==============================] - 0s 714us/step - loss: 0.2191 - accuracy: 0.9080\n",
      "Epoch 59/100\n",
      "24/24 [==============================] - 0s 683us/step - loss: 0.2179 - accuracy: 0.9080\n",
      "Epoch 60/100\n",
      "24/24 [==============================] - 0s 656us/step - loss: 0.2166 - accuracy: 0.9080\n",
      "Epoch 61/100\n",
      "24/24 [==============================] - 0s 701us/step - loss: 0.2153 - accuracy: 0.9080\n",
      "Epoch 62/100\n",
      "24/24 [==============================] - 0s 677us/step - loss: 0.2140 - accuracy: 0.9080\n",
      "Epoch 63/100\n",
      "24/24 [==============================] - 0s 711us/step - loss: 0.2128 - accuracy: 0.9093\n",
      "Epoch 64/100\n",
      "24/24 [==============================] - 0s 608us/step - loss: 0.2114 - accuracy: 0.9120\n",
      "Epoch 65/100\n",
      "24/24 [==============================] - 0s 681us/step - loss: 0.2102 - accuracy: 0.9133\n",
      "Epoch 66/100\n",
      "24/24 [==============================] - 0s 746us/step - loss: 0.2089 - accuracy: 0.9133\n",
      "Epoch 67/100\n",
      "24/24 [==============================] - 0s 682us/step - loss: 0.2076 - accuracy: 0.9147\n",
      "Epoch 68/100\n",
      "24/24 [==============================] - 0s 635us/step - loss: 0.2063 - accuracy: 0.9147\n",
      "Epoch 69/100\n",
      "24/24 [==============================] - 0s 667us/step - loss: 0.2051 - accuracy: 0.9147\n",
      "Epoch 70/100\n",
      "24/24 [==============================] - 0s 677us/step - loss: 0.2037 - accuracy: 0.9147\n",
      "Epoch 71/100\n",
      "24/24 [==============================] - 0s 675us/step - loss: 0.2024 - accuracy: 0.9147\n",
      "Epoch 72/100\n",
      "24/24 [==============================] - 0s 718us/step - loss: 0.2012 - accuracy: 0.9147\n",
      "Epoch 73/100\n",
      "24/24 [==============================] - 0s 798us/step - loss: 0.1998 - accuracy: 0.9147\n",
      "Epoch 74/100\n",
      "24/24 [==============================] - 0s 821us/step - loss: 0.1986 - accuracy: 0.9160\n",
      "Epoch 75/100\n",
      "24/24 [==============================] - 0s 747us/step - loss: 0.1973 - accuracy: 0.9147\n",
      "Epoch 76/100\n",
      "24/24 [==============================] - 0s 620us/step - loss: 0.1960 - accuracy: 0.9160\n",
      "Epoch 77/100\n",
      "24/24 [==============================] - 0s 613us/step - loss: 0.1947 - accuracy: 0.9173\n",
      "Epoch 78/100\n",
      "24/24 [==============================] - 0s 687us/step - loss: 0.1934 - accuracy: 0.9173\n",
      "Epoch 79/100\n",
      "24/24 [==============================] - 0s 764us/step - loss: 0.1919 - accuracy: 0.9173\n",
      "Epoch 80/100\n",
      "24/24 [==============================] - 0s 718us/step - loss: 0.1906 - accuracy: 0.9187\n",
      "Epoch 81/100\n"
     ]
    },
    {
     "name": "stdout",
     "output_type": "stream",
     "text": [
      "24/24 [==============================] - 0s 846us/step - loss: 0.1893 - accuracy: 0.9187\n",
      "Epoch 82/100\n",
      "24/24 [==============================] - 0s 1ms/step - loss: 0.1878 - accuracy: 0.9200\n",
      "Epoch 83/100\n",
      "24/24 [==============================] - 0s 829us/step - loss: 0.1866 - accuracy: 0.9200\n",
      "Epoch 84/100\n",
      "24/24 [==============================] - 0s 670us/step - loss: 0.1851 - accuracy: 0.9213\n",
      "Epoch 85/100\n",
      "24/24 [==============================] - 0s 724us/step - loss: 0.1837 - accuracy: 0.9213\n",
      "Epoch 86/100\n",
      "24/24 [==============================] - 0s 711us/step - loss: 0.1822 - accuracy: 0.9213\n",
      "Epoch 87/100\n",
      "24/24 [==============================] - 0s 754us/step - loss: 0.1809 - accuracy: 0.9227\n",
      "Epoch 88/100\n",
      "24/24 [==============================] - 0s 764us/step - loss: 0.1795 - accuracy: 0.9227\n",
      "Epoch 89/100\n",
      "24/24 [==============================] - 0s 731us/step - loss: 0.1780 - accuracy: 0.9227\n",
      "Epoch 90/100\n",
      "24/24 [==============================] - 0s 755us/step - loss: 0.1767 - accuracy: 0.9227\n",
      "Epoch 91/100\n",
      "24/24 [==============================] - 0s 692us/step - loss: 0.1753 - accuracy: 0.9227\n",
      "Epoch 92/100\n",
      "24/24 [==============================] - 0s 672us/step - loss: 0.1738 - accuracy: 0.9240\n",
      "Epoch 93/100\n",
      "24/24 [==============================] - 0s 661us/step - loss: 0.1724 - accuracy: 0.9253\n",
      "Epoch 94/100\n",
      "24/24 [==============================] - 0s 742us/step - loss: 0.1710 - accuracy: 0.9253\n",
      "Epoch 95/100\n",
      "24/24 [==============================] - 0s 696us/step - loss: 0.1697 - accuracy: 0.9267\n",
      "Epoch 96/100\n",
      "24/24 [==============================] - 0s 772us/step - loss: 0.1682 - accuracy: 0.9267\n",
      "Epoch 97/100\n",
      "24/24 [==============================] - 0s 687us/step - loss: 0.1667 - accuracy: 0.9267\n",
      "Epoch 98/100\n",
      "24/24 [==============================] - 0s 756us/step - loss: 0.1654 - accuracy: 0.9267\n",
      "Epoch 99/100\n",
      "24/24 [==============================] - 0s 730us/step - loss: 0.1640 - accuracy: 0.9267\n",
      "Epoch 100/100\n",
      "24/24 [==============================] - 0s 667us/step - loss: 0.1625 - accuracy: 0.9280\n"
     ]
    }
   ],
   "source": [
    "# Compile the Sequential model together and customize metrics\n",
    "new_model.compile(loss=\"binary_crossentropy\", optimizer=\"adam\", metrics=[\"accuracy\"])\n",
    "\n",
    "# Fit the model to the training data\n",
    "new_fit_model = new_model.fit(X_moon_train_scaled, y_moon_train, epochs=100, shuffle=True)"
   ]
  },
  {
   "cell_type": "code",
   "execution_count": null,
   "id": "f99c64f4",
   "metadata": {},
   "outputs": [],
   "source": []
  }
 ],
 "metadata": {
  "kernelspec": {
   "display_name": "mlenv",
   "language": "python",
   "name": "mlenv"
  },
  "language_info": {
   "codemirror_mode": {
    "name": "ipython",
    "version": 3
   },
   "file_extension": ".py",
   "mimetype": "text/x-python",
   "name": "python",
   "nbconvert_exporter": "python",
   "pygments_lexer": "ipython3",
   "version": "3.7.11"
  }
 },
 "nbformat": 4,
 "nbformat_minor": 5
}
